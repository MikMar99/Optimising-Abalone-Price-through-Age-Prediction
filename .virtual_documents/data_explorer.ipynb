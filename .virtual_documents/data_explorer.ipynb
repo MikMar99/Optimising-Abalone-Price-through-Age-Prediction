import pandas as pd


train_df = pd.read_csv('data/train.csv')
test_df = pd.read_csv('data/test.csv')
submission_df = pd.read_csv('data/sample_submission.csv')


train_df.head()


test_df.head()


submission_df.head()


train_df.describe()


train_df.info()



