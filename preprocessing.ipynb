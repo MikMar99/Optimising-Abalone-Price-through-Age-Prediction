{
 "cells": [
  {
   "cell_type": "markdown",
   "id": "445db78e-a4e0-4135-a78d-feb46bff3827",
   "metadata": {},
   "source": [
    "# Preprocessing and Feature Engineering\n",
    "\n",
    "In this notebook, the datasets are preprocessed to make them more efficient and lighter for modeling."
   ]
  },
  {
   "cell_type": "markdown",
   "id": "566c7093-acfc-4843-b98d-58a0ad3a405e",
   "metadata": {},
   "source": [
    "**Content:**\n",
    "1. Preprocessing - Convert Sex column to numerical\n",
    "2. Feature Engineering - Create DimentionCluser with kmeans\n",
    "3. Feature Selection - Drop highly correlated features"
   ]
  },
  {
   "cell_type": "markdown",
   "id": "4f687ce3-e727-462f-94f7-a6cca6780ec3",
   "metadata": {
    "tags": []
   },
   "source": [
    "#### Import Libraries and Data"
   ]
  },
  {
   "cell_type": "code",
   "execution_count": 1,
   "id": "b711a22a-7924-40d0-af62-4cf2161f25d1",
   "metadata": {
    "tags": []
   },
   "outputs": [],
   "source": [
    "# Data exploration and processing\n",
    "import pandas as pd\n",
    "import numpy as np\n",
    "from sklearn.cluster import KMeans\n",
    "\n",
    "#Data Visualisation\n",
    "import seaborn as sns"
   ]
  },
  {
   "cell_type": "code",
   "execution_count": 2,
   "id": "68eb83e5-aa13-4175-99d5-63686eb1627c",
   "metadata": {
    "tags": []
   },
   "outputs": [],
   "source": [
    "train_raw = pd.read_csv('data/playground-series-s4e4/train.csv', index_col = \"id\")\n",
    "test_raw = pd.read_csv('data/playground-series-s4e4/test.csv', index_col = \"id\")"
   ]
  },
  {
   "cell_type": "code",
   "execution_count": 3,
   "id": "39d741f6-abf3-4447-a9aa-1efc80c3a66f",
   "metadata": {
    "tags": []
   },
   "outputs": [
    {
     "data": {
      "text/html": [
       "<div>\n",
       "<style scoped>\n",
       "    .dataframe tbody tr th:only-of-type {\n",
       "        vertical-align: middle;\n",
       "    }\n",
       "\n",
       "    .dataframe tbody tr th {\n",
       "        vertical-align: top;\n",
       "    }\n",
       "\n",
       "    .dataframe thead th {\n",
       "        text-align: right;\n",
       "    }\n",
       "</style>\n",
       "<table border=\"1\" class=\"dataframe\">\n",
       "  <thead>\n",
       "    <tr style=\"text-align: right;\">\n",
       "      <th></th>\n",
       "      <th>Sex</th>\n",
       "      <th>Length</th>\n",
       "      <th>Diameter</th>\n",
       "      <th>Height</th>\n",
       "      <th>Whole weight</th>\n",
       "      <th>Whole weight.1</th>\n",
       "      <th>Whole weight.2</th>\n",
       "      <th>Shell weight</th>\n",
       "      <th>Rings</th>\n",
       "    </tr>\n",
       "    <tr>\n",
       "      <th>id</th>\n",
       "      <th></th>\n",
       "      <th></th>\n",
       "      <th></th>\n",
       "      <th></th>\n",
       "      <th></th>\n",
       "      <th></th>\n",
       "      <th></th>\n",
       "      <th></th>\n",
       "      <th></th>\n",
       "    </tr>\n",
       "  </thead>\n",
       "  <tbody>\n",
       "    <tr>\n",
       "      <th>0</th>\n",
       "      <td>F</td>\n",
       "      <td>0.55</td>\n",
       "      <td>0.43</td>\n",
       "      <td>0.150</td>\n",
       "      <td>0.7715</td>\n",
       "      <td>0.3285</td>\n",
       "      <td>0.1465</td>\n",
       "      <td>0.240</td>\n",
       "      <td>11</td>\n",
       "    </tr>\n",
       "    <tr>\n",
       "      <th>1</th>\n",
       "      <td>F</td>\n",
       "      <td>0.63</td>\n",
       "      <td>0.49</td>\n",
       "      <td>0.145</td>\n",
       "      <td>1.1300</td>\n",
       "      <td>0.4580</td>\n",
       "      <td>0.2765</td>\n",
       "      <td>0.320</td>\n",
       "      <td>11</td>\n",
       "    </tr>\n",
       "    <tr>\n",
       "      <th>2</th>\n",
       "      <td>I</td>\n",
       "      <td>0.16</td>\n",
       "      <td>0.11</td>\n",
       "      <td>0.025</td>\n",
       "      <td>0.0210</td>\n",
       "      <td>0.0055</td>\n",
       "      <td>0.0030</td>\n",
       "      <td>0.005</td>\n",
       "      <td>6</td>\n",
       "    </tr>\n",
       "  </tbody>\n",
       "</table>\n",
       "</div>"
      ],
      "text/plain": [
       "   Sex  Length  Diameter  Height  Whole weight  Whole weight.1  \\\n",
       "id                                                               \n",
       "0    F    0.55      0.43   0.150        0.7715          0.3285   \n",
       "1    F    0.63      0.49   0.145        1.1300          0.4580   \n",
       "2    I    0.16      0.11   0.025        0.0210          0.0055   \n",
       "\n",
       "    Whole weight.2  Shell weight  Rings  \n",
       "id                                       \n",
       "0           0.1465         0.240     11  \n",
       "1           0.2765         0.320     11  \n",
       "2           0.0030         0.005      6  "
      ]
     },
     "execution_count": 3,
     "metadata": {},
     "output_type": "execute_result"
    }
   ],
   "source": [
    "train_raw.head(3)"
   ]
  },
  {
   "cell_type": "code",
   "execution_count": 4,
   "id": "a97fd4a3-358a-4449-8541-7bacf6251718",
   "metadata": {
    "tags": []
   },
   "outputs": [
    {
     "data": {
      "text/html": [
       "<div>\n",
       "<style scoped>\n",
       "    .dataframe tbody tr th:only-of-type {\n",
       "        vertical-align: middle;\n",
       "    }\n",
       "\n",
       "    .dataframe tbody tr th {\n",
       "        vertical-align: top;\n",
       "    }\n",
       "\n",
       "    .dataframe thead th {\n",
       "        text-align: right;\n",
       "    }\n",
       "</style>\n",
       "<table border=\"1\" class=\"dataframe\">\n",
       "  <thead>\n",
       "    <tr style=\"text-align: right;\">\n",
       "      <th></th>\n",
       "      <th>Sex</th>\n",
       "      <th>Length</th>\n",
       "      <th>Diameter</th>\n",
       "      <th>Height</th>\n",
       "      <th>Whole weight</th>\n",
       "      <th>Whole weight.1</th>\n",
       "      <th>Whole weight.2</th>\n",
       "      <th>Shell weight</th>\n",
       "    </tr>\n",
       "    <tr>\n",
       "      <th>id</th>\n",
       "      <th></th>\n",
       "      <th></th>\n",
       "      <th></th>\n",
       "      <th></th>\n",
       "      <th></th>\n",
       "      <th></th>\n",
       "      <th></th>\n",
       "      <th></th>\n",
       "    </tr>\n",
       "  </thead>\n",
       "  <tbody>\n",
       "    <tr>\n",
       "      <th>90615</th>\n",
       "      <td>M</td>\n",
       "      <td>0.645</td>\n",
       "      <td>0.475</td>\n",
       "      <td>0.155</td>\n",
       "      <td>1.2380</td>\n",
       "      <td>0.6185</td>\n",
       "      <td>0.3125</td>\n",
       "      <td>0.3005</td>\n",
       "    </tr>\n",
       "    <tr>\n",
       "      <th>90616</th>\n",
       "      <td>M</td>\n",
       "      <td>0.580</td>\n",
       "      <td>0.460</td>\n",
       "      <td>0.160</td>\n",
       "      <td>0.9830</td>\n",
       "      <td>0.4785</td>\n",
       "      <td>0.2195</td>\n",
       "      <td>0.2750</td>\n",
       "    </tr>\n",
       "    <tr>\n",
       "      <th>90617</th>\n",
       "      <td>M</td>\n",
       "      <td>0.560</td>\n",
       "      <td>0.420</td>\n",
       "      <td>0.140</td>\n",
       "      <td>0.8395</td>\n",
       "      <td>0.3525</td>\n",
       "      <td>0.1845</td>\n",
       "      <td>0.2405</td>\n",
       "    </tr>\n",
       "  </tbody>\n",
       "</table>\n",
       "</div>"
      ],
      "text/plain": [
       "      Sex  Length  Diameter  Height  Whole weight  Whole weight.1  \\\n",
       "id                                                                  \n",
       "90615   M   0.645     0.475   0.155        1.2380          0.6185   \n",
       "90616   M   0.580     0.460   0.160        0.9830          0.4785   \n",
       "90617   M   0.560     0.420   0.140        0.8395          0.3525   \n",
       "\n",
       "       Whole weight.2  Shell weight  \n",
       "id                                   \n",
       "90615          0.3125        0.3005  \n",
       "90616          0.2195        0.2750  \n",
       "90617          0.1845        0.2405  "
      ]
     },
     "execution_count": 4,
     "metadata": {},
     "output_type": "execute_result"
    }
   ],
   "source": [
    "test_raw.head(3)"
   ]
  },
  {
   "cell_type": "code",
   "execution_count": 5,
   "id": "8a0be914-ad2a-4b88-8646-ac95ad5a8218",
   "metadata": {
    "tags": []
   },
   "outputs": [
    {
     "data": {
      "text/html": [
       "<div>\n",
       "<style scoped>\n",
       "    .dataframe tbody tr th:only-of-type {\n",
       "        vertical-align: middle;\n",
       "    }\n",
       "\n",
       "    .dataframe tbody tr th {\n",
       "        vertical-align: top;\n",
       "    }\n",
       "\n",
       "    .dataframe thead th {\n",
       "        text-align: right;\n",
       "    }\n",
       "</style>\n",
       "<table border=\"1\" class=\"dataframe\">\n",
       "  <thead>\n",
       "    <tr style=\"text-align: right;\">\n",
       "      <th></th>\n",
       "      <th>Sex</th>\n",
       "      <th>Length</th>\n",
       "      <th>Diameter</th>\n",
       "      <th>Height</th>\n",
       "      <th>Whole weight</th>\n",
       "      <th>Whole weight.1</th>\n",
       "      <th>Whole weight.2</th>\n",
       "      <th>Shell weight</th>\n",
       "      <th>Rings</th>\n",
       "    </tr>\n",
       "    <tr>\n",
       "      <th>id</th>\n",
       "      <th></th>\n",
       "      <th></th>\n",
       "      <th></th>\n",
       "      <th></th>\n",
       "      <th></th>\n",
       "      <th></th>\n",
       "      <th></th>\n",
       "      <th></th>\n",
       "      <th></th>\n",
       "    </tr>\n",
       "  </thead>\n",
       "  <tbody>\n",
       "    <tr>\n",
       "      <th>151023</th>\n",
       "      <td>I</td>\n",
       "      <td>0.59</td>\n",
       "      <td>0.440</td>\n",
       "      <td>0.155</td>\n",
       "      <td>1.1220</td>\n",
       "      <td>0.3930</td>\n",
       "      <td>0.2000</td>\n",
       "      <td>0.2650</td>\n",
       "      <td>NaN</td>\n",
       "    </tr>\n",
       "    <tr>\n",
       "      <th>151024</th>\n",
       "      <td>F</td>\n",
       "      <td>0.66</td>\n",
       "      <td>0.525</td>\n",
       "      <td>0.190</td>\n",
       "      <td>1.4935</td>\n",
       "      <td>0.5885</td>\n",
       "      <td>0.3575</td>\n",
       "      <td>0.4350</td>\n",
       "      <td>NaN</td>\n",
       "    </tr>\n",
       "    <tr>\n",
       "      <th>151025</th>\n",
       "      <td>F</td>\n",
       "      <td>0.43</td>\n",
       "      <td>0.340</td>\n",
       "      <td>0.120</td>\n",
       "      <td>0.4150</td>\n",
       "      <td>0.1525</td>\n",
       "      <td>0.0910</td>\n",
       "      <td>0.0905</td>\n",
       "      <td>NaN</td>\n",
       "    </tr>\n",
       "  </tbody>\n",
       "</table>\n",
       "</div>"
      ],
      "text/plain": [
       "       Sex  Length  Diameter  Height  Whole weight  Whole weight.1  \\\n",
       "id                                                                   \n",
       "151023   I    0.59     0.440   0.155        1.1220          0.3930   \n",
       "151024   F    0.66     0.525   0.190        1.4935          0.5885   \n",
       "151025   F    0.43     0.340   0.120        0.4150          0.1525   \n",
       "\n",
       "        Whole weight.2  Shell weight  Rings  \n",
       "id                                           \n",
       "151023          0.2000        0.2650    NaN  \n",
       "151024          0.3575        0.4350    NaN  \n",
       "151025          0.0910        0.0905    NaN  "
      ]
     },
     "execution_count": 5,
     "metadata": {},
     "output_type": "execute_result"
    }
   ],
   "source": [
    "# concatenate train and test so we can do the preprocessing to both simultaneously\n",
    "full_df = pd.concat([train_raw,test_raw], ignore_index=False)\n",
    "full_df.tail(3)"
   ]
  },
  {
   "cell_type": "markdown",
   "id": "689588be-cb8c-4c64-af62-28e6a335349d",
   "metadata": {
    "tags": []
   },
   "source": [
    "#### 1. Preprocessing"
   ]
  },
  {
   "cell_type": "markdown",
   "id": "3a34a1f2-413c-4385-be1b-372dffdeb42c",
   "metadata": {},
   "source": [
    "##### 1.1 Convert non-numerical columns to numerical\n",
    "\n",
    "**The Scikit-learn library only accepts numerical values** hence we need to change the Sex column to numerical. "
   ]
  },
  {
   "cell_type": "code",
   "execution_count": 6,
   "id": "86609876-233f-4c7e-a57c-51645250c0f2",
   "metadata": {
    "tags": []
   },
   "outputs": [
    {
     "data": {
      "text/plain": [
       "array(['F', 'I', 'M'], dtype=object)"
      ]
     },
     "execution_count": 6,
     "metadata": {},
     "output_type": "execute_result"
    }
   ],
   "source": [
    "full_df['Sex'].unique()"
   ]
  },
  {
   "cell_type": "markdown",
   "id": "5240f287-2c6c-4518-b838-3a6a29fd9d0d",
   "metadata": {},
   "source": [
    "\"I\" stands for infant"
   ]
  },
  {
   "cell_type": "code",
   "execution_count": 7,
   "id": "34c46fdf-c33f-436a-a033-70e745262a93",
   "metadata": {
    "tags": []
   },
   "outputs": [
    {
     "data": {
      "text/html": [
       "<div>\n",
       "<style scoped>\n",
       "    .dataframe tbody tr th:only-of-type {\n",
       "        vertical-align: middle;\n",
       "    }\n",
       "\n",
       "    .dataframe tbody tr th {\n",
       "        vertical-align: top;\n",
       "    }\n",
       "\n",
       "    .dataframe thead th {\n",
       "        text-align: right;\n",
       "    }\n",
       "</style>\n",
       "<table border=\"1\" class=\"dataframe\">\n",
       "  <thead>\n",
       "    <tr style=\"text-align: right;\">\n",
       "      <th></th>\n",
       "      <th>Length</th>\n",
       "      <th>Diameter</th>\n",
       "      <th>Height</th>\n",
       "      <th>Whole weight</th>\n",
       "      <th>Whole weight.1</th>\n",
       "      <th>Whole weight.2</th>\n",
       "      <th>Shell weight</th>\n",
       "      <th>Rings</th>\n",
       "      <th>Sex_I</th>\n",
       "      <th>Sex_M</th>\n",
       "    </tr>\n",
       "    <tr>\n",
       "      <th>id</th>\n",
       "      <th></th>\n",
       "      <th></th>\n",
       "      <th></th>\n",
       "      <th></th>\n",
       "      <th></th>\n",
       "      <th></th>\n",
       "      <th></th>\n",
       "      <th></th>\n",
       "      <th></th>\n",
       "      <th></th>\n",
       "    </tr>\n",
       "  </thead>\n",
       "  <tbody>\n",
       "    <tr>\n",
       "      <th>0</th>\n",
       "      <td>0.55</td>\n",
       "      <td>0.43</td>\n",
       "      <td>0.150</td>\n",
       "      <td>0.7715</td>\n",
       "      <td>0.3285</td>\n",
       "      <td>0.1465</td>\n",
       "      <td>0.240</td>\n",
       "      <td>11.0</td>\n",
       "      <td>0</td>\n",
       "      <td>0</td>\n",
       "    </tr>\n",
       "    <tr>\n",
       "      <th>1</th>\n",
       "      <td>0.63</td>\n",
       "      <td>0.49</td>\n",
       "      <td>0.145</td>\n",
       "      <td>1.1300</td>\n",
       "      <td>0.4580</td>\n",
       "      <td>0.2765</td>\n",
       "      <td>0.320</td>\n",
       "      <td>11.0</td>\n",
       "      <td>0</td>\n",
       "      <td>0</td>\n",
       "    </tr>\n",
       "    <tr>\n",
       "      <th>2</th>\n",
       "      <td>0.16</td>\n",
       "      <td>0.11</td>\n",
       "      <td>0.025</td>\n",
       "      <td>0.0210</td>\n",
       "      <td>0.0055</td>\n",
       "      <td>0.0030</td>\n",
       "      <td>0.005</td>\n",
       "      <td>6.0</td>\n",
       "      <td>1</td>\n",
       "      <td>0</td>\n",
       "    </tr>\n",
       "  </tbody>\n",
       "</table>\n",
       "</div>"
      ],
      "text/plain": [
       "    Length  Diameter  Height  Whole weight  Whole weight.1  Whole weight.2  \\\n",
       "id                                                                           \n",
       "0     0.55      0.43   0.150        0.7715          0.3285          0.1465   \n",
       "1     0.63      0.49   0.145        1.1300          0.4580          0.2765   \n",
       "2     0.16      0.11   0.025        0.0210          0.0055          0.0030   \n",
       "\n",
       "    Shell weight  Rings  Sex_I  Sex_M  \n",
       "id                                     \n",
       "0          0.240   11.0      0      0  \n",
       "1          0.320   11.0      0      0  \n",
       "2          0.005    6.0      1      0  "
      ]
     },
     "execution_count": 7,
     "metadata": {},
     "output_type": "execute_result"
    }
   ],
   "source": [
    "# encode sex as new binary columns\n",
    "full_df = pd.get_dummies(full_df,drop_first=True, dtype=int)\n",
    "\n",
    "full_df.head(3)"
   ]
  },
  {
   "cell_type": "markdown",
   "id": "b7a715fa-cea4-488a-a468-4c58557fbcd7",
   "metadata": {},
   "source": [
    "**Note:** When both Sex_I and Sex_M are 0, then the sex is \"F\"; the column \"F\" was eliminated by the drop_first=True argument (any of the three could have eliminated) to reduce the number of columns (i.e., for efficiency)"
   ]
  },
  {
   "cell_type": "markdown",
   "id": "fd2a7ca7-0a3a-4c31-b614-e9291274bcf0",
   "metadata": {},
   "source": [
    "##### 2. Feature Engineering"
   ]
  },
  {
   "cell_type": "markdown",
   "id": "9645ddd9-a254-4732-806d-5ec376e88992",
   "metadata": {},
   "source": [
    "##### 2.1 Kmeans Clustering\n",
    "Given that size features (length, diameter, and height) and weight feature are very correlated to each other, I am creating a cluster that combines one the size features (length) and one of the weight features (Whole Weight)"
   ]
  },
  {
   "cell_type": "code",
   "execution_count": 11,
   "id": "e9d34274-def4-450d-8f32-027529bc98a0",
   "metadata": {
    "tags": []
   },
   "outputs": [],
   "source": [
    "columns_to_cluster = [\"Whole weight\", \"Length\",]\n",
    "\n",
    "kmeans = KMeans(n_clusters=3, random_state=1111)\n",
    "full_df[\"DimensionsCluster\"] = kmeans.fit_predict(full_df[columns_to_cluster])\n",
    "full_df[\"DimensionsCluster\"] = full_df[\"DimensionsCluster\"].astype(\"category\")"
   ]
  },
  {
   "cell_type": "code",
   "execution_count": 9,
   "id": "df6557b0-3872-4890-8ed6-35c7ddc20265",
   "metadata": {
    "tags": []
   },
   "outputs": [
    {
     "data": {
      "text/plain": [
       "<Axes: xlabel='Whole weight', ylabel='Diameter'>"
      ]
     },
     "execution_count": 9,
     "metadata": {},
     "output_type": "execute_result"
    },
    {
     "data": {
      "image/png": "[encoded data removed]",
      "text/plain": [
       "<Figure size 640x480 with 1 Axes>"
      ]
     },
     "metadata": {},
     "output_type": "display_data"
    }
   ],
   "source": [
    "sns.scatterplot(data=full_df, x=\"Whole weight\", y=\"Diameter\", hue=\"DimensionsCluster\")"
   ]
  },
  {
   "cell_type": "markdown",
   "id": "bf6cad8f-c54d-40cb-aad8-c87c8abb34de",
   "metadata": {},
   "source": [
    "The three clusters represent abalones with low weight and low length, medium weight and medium length, and large weight and large length "
   ]
  },
  {
   "cell_type": "code",
   "execution_count": 10,
   "id": "5af25e80-2d69-439a-a005-f62345a2d0ba",
   "metadata": {
    "tags": []
   },
   "outputs": [
    {
     "data": {
      "text/plain": [
       "<Axes: xlabel='DimensionsCluster', ylabel='Rings'>"
      ]
     },
     "execution_count": 10,
     "metadata": {},
     "output_type": "execute_result"
    },
    {
     "data": {
      "image/png": "[encoded data removed]",
      "text/plain": [
       "<Figure size 640x480 with 1 Axes>"
      ]
     },
     "metadata": {},
     "output_type": "display_data"
    }
   ],
   "source": [
    "sns.boxplot(data=full_df, x=\"DimensionsCluster\", y=\"Rings\")"
   ]
  },
  {
   "cell_type": "markdown",
   "id": "faffcf3e-36f0-4e35-993d-78962cc559cf",
   "metadata": {},
   "source": [
    "cluster 1 contains abalones with the smallest number of rings, followed by cluster 0 and 2"
   ]
  },
  {
   "cell_type": "markdown",
   "id": "f9952362-10c6-4193-847f-8f283429b7d5",
   "metadata": {},
   "source": [
    "##### 3. Feature Selection"
   ]
  },
  {
   "cell_type": "code",
   "execution_count": 14,
   "id": "5410365b-a9f2-46ee-ab9d-27e8239145fd",
   "metadata": {
    "tags": []
   },
   "outputs": [
    {
     "data": {
      "text/html": [
       "<style type=\"text/css\">\n",
       "#T_d1e79_row0_col0, #T_d1e79_row1_col1, #T_d1e79_row2_col2, #T_d1e79_row3_col3, #T_d1e79_row4_col4, #T_d1e79_row5_col5, #T_d1e79_row6_col6, #T_d1e79_row7_col7, #T_d1e79_row8_col8, #T_d1e79_row9_col9 {\n",
       "  background-color: #b40426;\n",
       "  color: #f1f1f1;\n",
       "}\n",
       "#T_d1e79_row0_col1, #T_d1e79_row1_col0 {\n",
       "  background-color: #b50927;\n",
       "  color: #f1f1f1;\n",
       "}\n",
       "#T_d1e79_row0_col2, #T_d1e79_row0_col5, #T_d1e79_row0_col6, #T_d1e79_row1_col2, #T_d1e79_row1_col5, #T_d1e79_row2_col0, #T_d1e79_row4_col6, #T_d1e79_row5_col0, #T_d1e79_row5_col1, #T_d1e79_row6_col0 {\n",
       "  background-color: #c73635;\n",
       "  color: #f1f1f1;\n",
       "}\n",
       "#T_d1e79_row0_col3, #T_d1e79_row1_col3, #T_d1e79_row3_col0, #T_d1e79_row3_col1 {\n",
       "  background-color: #c32e31;\n",
       "  color: #f1f1f1;\n",
       "}\n",
       "#T_d1e79_row0_col4, #T_d1e79_row1_col4, #T_d1e79_row4_col0, #T_d1e79_row4_col1, #T_d1e79_row6_col4 {\n",
       "  background-color: #c83836;\n",
       "  color: #f1f1f1;\n",
       "}\n",
       "#T_d1e79_row0_col7, #T_d1e79_row7_col5 {\n",
       "  background-color: #f4987a;\n",
       "  color: #000000;\n",
       "}\n",
       "#T_d1e79_row0_col8 {\n",
       "  background-color: #3c4ec2;\n",
       "  color: #f1f1f1;\n",
       "}\n",
       "#T_d1e79_row0_col9, #T_d1e79_row1_col9 {\n",
       "  background-color: #ebd3c6;\n",
       "  color: #000000;\n",
       "}\n",
       "#T_d1e79_row1_col6, #T_d1e79_row2_col1, #T_d1e79_row6_col1 {\n",
       "  background-color: #c53334;\n",
       "  color: #f1f1f1;\n",
       "}\n",
       "#T_d1e79_row1_col7 {\n",
       "  background-color: #f39577;\n",
       "  color: #000000;\n",
       "}\n",
       "#T_d1e79_row1_col8, #T_d1e79_row8_col0, #T_d1e79_row8_col1, #T_d1e79_row8_col2, #T_d1e79_row8_col3, #T_d1e79_row8_col4, #T_d1e79_row8_col5, #T_d1e79_row8_col6, #T_d1e79_row8_col7, #T_d1e79_row8_col9 {\n",
       "  background-color: #3b4cc0;\n",
       "  color: #f1f1f1;\n",
       "}\n",
       "#T_d1e79_row2_col3, #T_d1e79_row2_col6, #T_d1e79_row3_col2, #T_d1e79_row6_col2 {\n",
       "  background-color: #ca3b37;\n",
       "  color: #f1f1f1;\n",
       "}\n",
       "#T_d1e79_row2_col4, #T_d1e79_row4_col2 {\n",
       "  background-color: #d24b40;\n",
       "  color: #f1f1f1;\n",
       "}\n",
       "#T_d1e79_row2_col5, #T_d1e79_row5_col2 {\n",
       "  background-color: #cd423b;\n",
       "  color: #f1f1f1;\n",
       "}\n",
       "#T_d1e79_row2_col7 {\n",
       "  background-color: #f18d6f;\n",
       "  color: #f1f1f1;\n",
       "}\n",
       "#T_d1e79_row2_col8 {\n",
       "  background-color: #3e51c5;\n",
       "  color: #f1f1f1;\n",
       "}\n",
       "#T_d1e79_row2_col9, #T_d1e79_row4_col9, #T_d1e79_row5_col9, #T_d1e79_row6_col9 {\n",
       "  background-color: #e9d5cb;\n",
       "  color: #000000;\n",
       "}\n",
       "#T_d1e79_row3_col4, #T_d1e79_row4_col3 {\n",
       "  background-color: #ba162b;\n",
       "  color: #f1f1f1;\n",
       "}\n",
       "#T_d1e79_row3_col5, #T_d1e79_row5_col3 {\n",
       "  background-color: #b8122a;\n",
       "  color: #f1f1f1;\n",
       "}\n",
       "#T_d1e79_row3_col6, #T_d1e79_row6_col3 {\n",
       "  background-color: #bb1b2c;\n",
       "  color: #f1f1f1;\n",
       "}\n",
       "#T_d1e79_row3_col7 {\n",
       "  background-color: #f49a7b;\n",
       "  color: #000000;\n",
       "}\n",
       "#T_d1e79_row3_col8, #T_d1e79_row5_col8, #T_d1e79_row6_col8 {\n",
       "  background-color: #3d50c3;\n",
       "  color: #f1f1f1;\n",
       "}\n",
       "#T_d1e79_row3_col9 {\n",
       "  background-color: #ead5c9;\n",
       "  color: #000000;\n",
       "}\n",
       "#T_d1e79_row4_col5 {\n",
       "  background-color: #be242e;\n",
       "  color: #f1f1f1;\n",
       "}\n",
       "#T_d1e79_row4_col7 {\n",
       "  background-color: #f7b396;\n",
       "  color: #000000;\n",
       "}\n",
       "#T_d1e79_row4_col8 {\n",
       "  background-color: #4257c9;\n",
       "  color: #f1f1f1;\n",
       "}\n",
       "#T_d1e79_row5_col4 {\n",
       "  background-color: #c0282f;\n",
       "  color: #f1f1f1;\n",
       "}\n",
       "#T_d1e79_row5_col6, #T_d1e79_row6_col5 {\n",
       "  background-color: #c12b30;\n",
       "  color: #f1f1f1;\n",
       "}\n",
       "#T_d1e79_row5_col7 {\n",
       "  background-color: #f6a283;\n",
       "  color: #000000;\n",
       "}\n",
       "#T_d1e79_row6_col7 {\n",
       "  background-color: #ee8468;\n",
       "  color: #f1f1f1;\n",
       "}\n",
       "#T_d1e79_row7_col0 {\n",
       "  background-color: #f29072;\n",
       "  color: #f1f1f1;\n",
       "}\n",
       "#T_d1e79_row7_col1 {\n",
       "  background-color: #f08b6e;\n",
       "  color: #f1f1f1;\n",
       "}\n",
       "#T_d1e79_row7_col2 {\n",
       "  background-color: #ee8669;\n",
       "  color: #f1f1f1;\n",
       "}\n",
       "#T_d1e79_row7_col3 {\n",
       "  background-color: #f29274;\n",
       "  color: #f1f1f1;\n",
       "}\n",
       "#T_d1e79_row7_col4 {\n",
       "  background-color: #f7ac8e;\n",
       "  color: #000000;\n",
       "}\n",
       "#T_d1e79_row7_col6 {\n",
       "  background-color: #eb7d62;\n",
       "  color: #f1f1f1;\n",
       "}\n",
       "#T_d1e79_row7_col8 {\n",
       "  background-color: #5572df;\n",
       "  color: #f1f1f1;\n",
       "}\n",
       "#T_d1e79_row7_col9 {\n",
       "  background-color: #dfdbd9;\n",
       "  color: #000000;\n",
       "}\n",
       "#T_d1e79_row9_col0 {\n",
       "  background-color: #f0cdbb;\n",
       "  color: #000000;\n",
       "}\n",
       "#T_d1e79_row9_col1 {\n",
       "  background-color: #f1cdba;\n",
       "  color: #000000;\n",
       "}\n",
       "#T_d1e79_row9_col2, #T_d1e79_row9_col5, #T_d1e79_row9_col6 {\n",
       "  background-color: #eed0c0;\n",
       "  color: #000000;\n",
       "}\n",
       "#T_d1e79_row9_col3 {\n",
       "  background-color: #efcfbf;\n",
       "  color: #000000;\n",
       "}\n",
       "#T_d1e79_row9_col4 {\n",
       "  background-color: #edd2c3;\n",
       "  color: #000000;\n",
       "}\n",
       "#T_d1e79_row9_col7 {\n",
       "  background-color: #dcdddd;\n",
       "  color: #000000;\n",
       "}\n",
       "#T_d1e79_row9_col8 {\n",
       "  background-color: #4f69d9;\n",
       "  color: #f1f1f1;\n",
       "}\n",
       "</style>\n",
       "<table id=\"T_d1e79\">\n",
       "  <thead>\n",
       "    <tr>\n",
       "      <th class=\"blank level0\" >&nbsp;</th>\n",
       "      <th id=\"T_d1e79_level0_col0\" class=\"col_heading level0 col0\" >Length</th>\n",
       "      <th id=\"T_d1e79_level0_col1\" class=\"col_heading level0 col1\" >Diameter</th>\n",
       "      <th id=\"T_d1e79_level0_col2\" class=\"col_heading level0 col2\" >Height</th>\n",
       "      <th id=\"T_d1e79_level0_col3\" class=\"col_heading level0 col3\" >Whole weight</th>\n",
       "      <th id=\"T_d1e79_level0_col4\" class=\"col_heading level0 col4\" >Whole weight.1</th>\n",
       "      <th id=\"T_d1e79_level0_col5\" class=\"col_heading level0 col5\" >Whole weight.2</th>\n",
       "      <th id=\"T_d1e79_level0_col6\" class=\"col_heading level0 col6\" >Shell weight</th>\n",
       "      <th id=\"T_d1e79_level0_col7\" class=\"col_heading level0 col7\" >Rings</th>\n",
       "      <th id=\"T_d1e79_level0_col8\" class=\"col_heading level0 col8\" >Sex_I</th>\n",
       "      <th id=\"T_d1e79_level0_col9\" class=\"col_heading level0 col9\" >Sex_M</th>\n",
       "    </tr>\n",
       "  </thead>\n",
       "  <tbody>\n",
       "    <tr>\n",
       "      <th id=\"T_d1e79_level0_row0\" class=\"row_heading level0 row0\" >Length</th>\n",
       "      <td id=\"T_d1e79_row0_col0\" class=\"data row0 col0\" >1.000000</td>\n",
       "      <td id=\"T_d1e79_row0_col1\" class=\"data row0 col1\" >0.989724</td>\n",
       "      <td id=\"T_d1e79_row0_col2\" class=\"data row0 col2\" >0.912872</td>\n",
       "      <td id=\"T_d1e79_row0_col3\" class=\"data row0 col3\" >0.931075</td>\n",
       "      <td id=\"T_d1e79_row0_col4\" class=\"data row0 col4\" >0.909383</td>\n",
       "      <td id=\"T_d1e79_row0_col5\" class=\"data row0 col5\" >0.912992</td>\n",
       "      <td id=\"T_d1e79_row0_col6\" class=\"data row0 col6\" >0.910864</td>\n",
       "      <td id=\"T_d1e79_row0_col7\" class=\"data row0 col7\" >0.623786</td>\n",
       "      <td id=\"T_d1e79_row0_col8\" class=\"data row0 col8\" >-0.655209</td>\n",
       "      <td id=\"T_d1e79_row0_col9\" class=\"data row0 col9\" >0.317215</td>\n",
       "    </tr>\n",
       "    <tr>\n",
       "      <th id=\"T_d1e79_level0_row1\" class=\"row_heading level0 row1\" >Diameter</th>\n",
       "      <td id=\"T_d1e79_row1_col0\" class=\"data row1 col0\" >0.989724</td>\n",
       "      <td id=\"T_d1e79_row1_col1\" class=\"data row1 col1\" >1.000000</td>\n",
       "      <td id=\"T_d1e79_row1_col2\" class=\"data row1 col2\" >0.916491</td>\n",
       "      <td id=\"T_d1e79_row1_col3\" class=\"data row1 col3\" >0.933570</td>\n",
       "      <td id=\"T_d1e79_row1_col4\" class=\"data row1 col4\" >0.908280</td>\n",
       "      <td id=\"T_d1e79_row1_col5\" class=\"data row1 col5\" >0.914460</td>\n",
       "      <td id=\"T_d1e79_row1_col6\" class=\"data row1 col6\" >0.917730</td>\n",
       "      <td id=\"T_d1e79_row1_col7\" class=\"data row1 col7\" >0.636832</td>\n",
       "      <td id=\"T_d1e79_row1_col8\" class=\"data row1 col8\" >-0.663618</td>\n",
       "      <td id=\"T_d1e79_row1_col9\" class=\"data row1 col9\" >0.320697</td>\n",
       "    </tr>\n",
       "    <tr>\n",
       "      <th id=\"T_d1e79_level0_row2\" class=\"row_heading level0 row2\" >Height</th>\n",
       "      <td id=\"T_d1e79_row2_col0\" class=\"data row2 col0\" >0.912872</td>\n",
       "      <td id=\"T_d1e79_row2_col1\" class=\"data row2 col1\" >0.916491</td>\n",
       "      <td id=\"T_d1e79_row2_col2\" class=\"data row2 col2\" >1.000000</td>\n",
       "      <td id=\"T_d1e79_row2_col3\" class=\"data row2 col3\" >0.899258</td>\n",
       "      <td id=\"T_d1e79_row2_col4\" class=\"data row2 col4\" >0.858838</td>\n",
       "      <td id=\"T_d1e79_row2_col5\" class=\"data row2 col5\" >0.883094</td>\n",
       "      <td id=\"T_d1e79_row2_col6\" class=\"data row2 col6\" >0.901751</td>\n",
       "      <td id=\"T_d1e79_row2_col7\" class=\"data row2 col7\" >0.665772</td>\n",
       "      <td id=\"T_d1e79_row2_col8\" class=\"data row2 col8\" >-0.642057</td>\n",
       "      <td id=\"T_d1e79_row2_col9\" class=\"data row2 col9\" >0.302652</td>\n",
       "    </tr>\n",
       "    <tr>\n",
       "      <th id=\"T_d1e79_level0_row3\" class=\"row_heading level0 row3\" >Whole weight</th>\n",
       "      <td id=\"T_d1e79_row3_col0\" class=\"data row3 col0\" >0.931075</td>\n",
       "      <td id=\"T_d1e79_row3_col1\" class=\"data row3 col1\" >0.933570</td>\n",
       "      <td id=\"T_d1e79_row3_col2\" class=\"data row3 col2\" >0.899258</td>\n",
       "      <td id=\"T_d1e79_row3_col3\" class=\"data row3 col3\" >1.000000</td>\n",
       "      <td id=\"T_d1e79_row3_col4\" class=\"data row3 col4\" >0.971124</td>\n",
       "      <td id=\"T_d1e79_row3_col5\" class=\"data row3 col5\" >0.974297</td>\n",
       "      <td id=\"T_d1e79_row3_col6\" class=\"data row3 col6\" >0.963936</td>\n",
       "      <td id=\"T_d1e79_row3_col7\" class=\"data row3 col7\" >0.617274</td>\n",
       "      <td id=\"T_d1e79_row3_col8\" class=\"data row3 col8\" >-0.650513</td>\n",
       "      <td id=\"T_d1e79_row3_col9\" class=\"data row3 col9\" >0.309070</td>\n",
       "    </tr>\n",
       "    <tr>\n",
       "      <th id=\"T_d1e79_level0_row4\" class=\"row_heading level0 row4\" >Whole weight.1</th>\n",
       "      <td id=\"T_d1e79_row4_col0\" class=\"data row4 col0\" >0.909383</td>\n",
       "      <td id=\"T_d1e79_row4_col1\" class=\"data row4 col1\" >0.908280</td>\n",
       "      <td id=\"T_d1e79_row4_col2\" class=\"data row4 col2\" >0.858838</td>\n",
       "      <td id=\"T_d1e79_row4_col3\" class=\"data row4 col3\" >0.971124</td>\n",
       "      <td id=\"T_d1e79_row4_col4\" class=\"data row4 col4\" >1.000000</td>\n",
       "      <td id=\"T_d1e79_row4_col5\" class=\"data row4 col5\" >0.949349</td>\n",
       "      <td id=\"T_d1e79_row4_col6\" class=\"data row4 col6\" >0.911469</td>\n",
       "      <td id=\"T_d1e79_row4_col7\" class=\"data row4 col7\" >0.515067</td>\n",
       "      <td id=\"T_d1e79_row4_col8\" class=\"data row4 col8\" >-0.618808</td>\n",
       "      <td id=\"T_d1e79_row4_col9\" class=\"data row4 col9\" >0.301142</td>\n",
       "    </tr>\n",
       "    <tr>\n",
       "      <th id=\"T_d1e79_level0_row5\" class=\"row_heading level0 row5\" >Whole weight.2</th>\n",
       "      <td id=\"T_d1e79_row5_col0\" class=\"data row5 col0\" >0.912992</td>\n",
       "      <td id=\"T_d1e79_row5_col1\" class=\"data row5 col1\" >0.914460</td>\n",
       "      <td id=\"T_d1e79_row5_col2\" class=\"data row5 col2\" >0.883094</td>\n",
       "      <td id=\"T_d1e79_row5_col3\" class=\"data row5 col3\" >0.974297</td>\n",
       "      <td id=\"T_d1e79_row5_col4\" class=\"data row5 col4\" >0.949349</td>\n",
       "      <td id=\"T_d1e79_row5_col5\" class=\"data row5 col5\" >1.000000</td>\n",
       "      <td id=\"T_d1e79_row5_col6\" class=\"data row5 col6\" >0.936684</td>\n",
       "      <td id=\"T_d1e79_row5_col7\" class=\"data row5 col7\" >0.588954</td>\n",
       "      <td id=\"T_d1e79_row5_col8\" class=\"data row5 col8\" >-0.645465</td>\n",
       "      <td id=\"T_d1e79_row5_col9\" class=\"data row5 col9\" >0.302762</td>\n",
       "    </tr>\n",
       "    <tr>\n",
       "      <th id=\"T_d1e79_level0_row6\" class=\"row_heading level0 row6\" >Shell weight</th>\n",
       "      <td id=\"T_d1e79_row6_col0\" class=\"data row6 col0\" >0.910864</td>\n",
       "      <td id=\"T_d1e79_row6_col1\" class=\"data row6 col1\" >0.917730</td>\n",
       "      <td id=\"T_d1e79_row6_col2\" class=\"data row6 col2\" >0.901751</td>\n",
       "      <td id=\"T_d1e79_row6_col3\" class=\"data row6 col3\" >0.963936</td>\n",
       "      <td id=\"T_d1e79_row6_col4\" class=\"data row6 col4\" >0.911469</td>\n",
       "      <td id=\"T_d1e79_row6_col5\" class=\"data row6 col5\" >0.936684</td>\n",
       "      <td id=\"T_d1e79_row6_col6\" class=\"data row6 col6\" >1.000000</td>\n",
       "      <td id=\"T_d1e79_row6_col7\" class=\"data row6 col7\" >0.694766</td>\n",
       "      <td id=\"T_d1e79_row6_col8\" class=\"data row6 col8\" >-0.647889</td>\n",
       "      <td id=\"T_d1e79_row6_col9\" class=\"data row6 col9\" >0.303091</td>\n",
       "    </tr>\n",
       "    <tr>\n",
       "      <th id=\"T_d1e79_level0_row7\" class=\"row_heading level0 row7\" >Rings</th>\n",
       "      <td id=\"T_d1e79_row7_col0\" class=\"data row7 col0\" >0.623786</td>\n",
       "      <td id=\"T_d1e79_row7_col1\" class=\"data row7 col1\" >0.636832</td>\n",
       "      <td id=\"T_d1e79_row7_col2\" class=\"data row7 col2\" >0.665772</td>\n",
       "      <td id=\"T_d1e79_row7_col3\" class=\"data row7 col3\" >0.617274</td>\n",
       "      <td id=\"T_d1e79_row7_col4\" class=\"data row7 col4\" >0.515067</td>\n",
       "      <td id=\"T_d1e79_row7_col5\" class=\"data row7 col5\" >0.588954</td>\n",
       "      <td id=\"T_d1e79_row7_col6\" class=\"data row7 col6\" >0.694766</td>\n",
       "      <td id=\"T_d1e79_row7_col7\" class=\"data row7 col7\" >1.000000</td>\n",
       "      <td id=\"T_d1e79_row7_col8\" class=\"data row7 col8\" >-0.516591</td>\n",
       "      <td id=\"T_d1e79_row7_col9\" class=\"data row7 col9\" >0.240048</td>\n",
       "    </tr>\n",
       "    <tr>\n",
       "      <th id=\"T_d1e79_level0_row8\" class=\"row_heading level0 row8\" >Sex_I</th>\n",
       "      <td id=\"T_d1e79_row8_col0\" class=\"data row8 col0\" >-0.655209</td>\n",
       "      <td id=\"T_d1e79_row8_col1\" class=\"data row8 col1\" >-0.663618</td>\n",
       "      <td id=\"T_d1e79_row8_col2\" class=\"data row8 col2\" >-0.642057</td>\n",
       "      <td id=\"T_d1e79_row8_col3\" class=\"data row8 col3\" >-0.650513</td>\n",
       "      <td id=\"T_d1e79_row8_col4\" class=\"data row8 col4\" >-0.618808</td>\n",
       "      <td id=\"T_d1e79_row8_col5\" class=\"data row8 col5\" >-0.645465</td>\n",
       "      <td id=\"T_d1e79_row8_col6\" class=\"data row8 col6\" >-0.647889</td>\n",
       "      <td id=\"T_d1e79_row8_col7\" class=\"data row8 col7\" >-0.516591</td>\n",
       "      <td id=\"T_d1e79_row8_col8\" class=\"data row8 col8\" >1.000000</td>\n",
       "      <td id=\"T_d1e79_row8_col9\" class=\"data row8 col9\" >-0.549508</td>\n",
       "    </tr>\n",
       "    <tr>\n",
       "      <th id=\"T_d1e79_level0_row9\" class=\"row_heading level0 row9\" >Sex_M</th>\n",
       "      <td id=\"T_d1e79_row9_col0\" class=\"data row9 col0\" >0.317215</td>\n",
       "      <td id=\"T_d1e79_row9_col1\" class=\"data row9 col1\" >0.320697</td>\n",
       "      <td id=\"T_d1e79_row9_col2\" class=\"data row9 col2\" >0.302652</td>\n",
       "      <td id=\"T_d1e79_row9_col3\" class=\"data row9 col3\" >0.309070</td>\n",
       "      <td id=\"T_d1e79_row9_col4\" class=\"data row9 col4\" >0.301142</td>\n",
       "      <td id=\"T_d1e79_row9_col5\" class=\"data row9 col5\" >0.302762</td>\n",
       "      <td id=\"T_d1e79_row9_col6\" class=\"data row9 col6\" >0.303091</td>\n",
       "      <td id=\"T_d1e79_row9_col7\" class=\"data row9 col7\" >0.240048</td>\n",
       "      <td id=\"T_d1e79_row9_col8\" class=\"data row9 col8\" >-0.549508</td>\n",
       "      <td id=\"T_d1e79_row9_col9\" class=\"data row9 col9\" >1.000000</td>\n",
       "    </tr>\n",
       "  </tbody>\n",
       "</table>\n"
      ],
      "text/plain": [
       "<pandas.io.formats.style.Styler at 0x29806913210>"
      ]
     },
     "execution_count": 14,
     "metadata": {},
     "output_type": "execute_result"
    }
   ],
   "source": [
    "corr = full_df.corr(method='pearson', numeric_only = True)\n",
    "corr.style.background_gradient(cmap='coolwarm')"
   ]
  },
  {
   "cell_type": "markdown",
   "id": "d9e8886c-2b9f-4885-9f0f-b4cd588a5227",
   "metadata": {},
   "source": [
    "**The following columns have a very high linear correlation:**\n",
    " - Diameter and Lenght > 0.98\n",
    " - Whole weight and Whole weight.1 > 0.97\n",
    " - Whole weight and Whole weight.2 > 0.97\n",
    " - Whole weight and Shell weight > 0.96\n",
    " \n",
    "To make the model selection process more efficient (by makeing the dataset lighter), **I will drop some of the correlated columns below**"
   ]
  },
  {
   "cell_type": "code",
   "execution_count": 15,
   "id": "0ff5d8b5-7e1e-43d4-ac10-e8906a060b95",
   "metadata": {
    "tags": []
   },
   "outputs": [
    {
     "data": {
      "text/plain": [
       "Index(['Length', 'Diameter', 'Height', 'Whole weight', 'Whole weight.1',\n",
       "       'Whole weight.2', 'Shell weight', 'Rings', 'Sex_I', 'Sex_M',\n",
       "       'DimensionsCluster'],\n",
       "      dtype='object')"
      ]
     },
     "execution_count": 15,
     "metadata": {},
     "output_type": "execute_result"
    }
   ],
   "source": [
    "full_df.columns"
   ]
  },
  {
   "cell_type": "code",
   "execution_count": 16,
   "id": "d7734109-2a54-43d1-aa50-90efdd1fc899",
   "metadata": {
    "tags": []
   },
   "outputs": [],
   "source": [
    "# drop and reorder columns\n",
    "full_df = full_df[['Length', 'Height', 'Whole weight', 'Sex_I', 'Sex_M','DimensionsCluster','Rings']]"
   ]
  },
  {
   "cell_type": "markdown",
   "id": "ca3a3942-d18f-4bba-b999-56e3c9c2cc22",
   "metadata": {},
   "source": [
    "##### Recover Train and Test sets\n",
    "\n",
    "Now that the preprocessing is done, we can recover the train and test sets"
   ]
  },
  {
   "cell_type": "code",
   "execution_count": 17,
   "id": "d6306721-b84b-4f06-b9bf-6bc258ac0831",
   "metadata": {
    "tags": []
   },
   "outputs": [
    {
     "data": {
      "text/html": [
       "<div>\n",
       "<style scoped>\n",
       "    .dataframe tbody tr th:only-of-type {\n",
       "        vertical-align: middle;\n",
       "    }\n",
       "\n",
       "    .dataframe tbody tr th {\n",
       "        vertical-align: top;\n",
       "    }\n",
       "\n",
       "    .dataframe thead th {\n",
       "        text-align: right;\n",
       "    }\n",
       "</style>\n",
       "<table border=\"1\" class=\"dataframe\">\n",
       "  <thead>\n",
       "    <tr style=\"text-align: right;\">\n",
       "      <th></th>\n",
       "      <th>Length</th>\n",
       "      <th>Height</th>\n",
       "      <th>Whole weight</th>\n",
       "      <th>Sex_I</th>\n",
       "      <th>Sex_M</th>\n",
       "      <th>DimensionsCluster</th>\n",
       "      <th>Rings</th>\n",
       "    </tr>\n",
       "    <tr>\n",
       "      <th>id</th>\n",
       "      <th></th>\n",
       "      <th></th>\n",
       "      <th></th>\n",
       "      <th></th>\n",
       "      <th></th>\n",
       "      <th></th>\n",
       "      <th></th>\n",
       "    </tr>\n",
       "  </thead>\n",
       "  <tbody>\n",
       "    <tr>\n",
       "      <th>0</th>\n",
       "      <td>0.55</td>\n",
       "      <td>0.150</td>\n",
       "      <td>0.7715</td>\n",
       "      <td>0</td>\n",
       "      <td>0</td>\n",
       "      <td>0</td>\n",
       "      <td>11.0</td>\n",
       "    </tr>\n",
       "    <tr>\n",
       "      <th>1</th>\n",
       "      <td>0.63</td>\n",
       "      <td>0.145</td>\n",
       "      <td>1.1300</td>\n",
       "      <td>0</td>\n",
       "      <td>0</td>\n",
       "      <td>0</td>\n",
       "      <td>11.0</td>\n",
       "    </tr>\n",
       "    <tr>\n",
       "      <th>2</th>\n",
       "      <td>0.16</td>\n",
       "      <td>0.025</td>\n",
       "      <td>0.0210</td>\n",
       "      <td>1</td>\n",
       "      <td>0</td>\n",
       "      <td>1</td>\n",
       "      <td>6.0</td>\n",
       "    </tr>\n",
       "  </tbody>\n",
       "</table>\n",
       "</div>"
      ],
      "text/plain": [
       "    Length  Height  Whole weight  Sex_I  Sex_M DimensionsCluster  Rings\n",
       "id                                                                     \n",
       "0     0.55   0.150        0.7715      0      0                 0   11.0\n",
       "1     0.63   0.145        1.1300      0      0                 0   11.0\n",
       "2     0.16   0.025        0.0210      1      0                 1    6.0"
      ]
     },
     "execution_count": 17,
     "metadata": {},
     "output_type": "execute_result"
    }
   ],
   "source": [
    "full_df.head(3)"
   ]
  },
  {
   "cell_type": "code",
   "execution_count": 18,
   "id": "bd8179df-e915-4074-982f-d41b1c19dc0b",
   "metadata": {
    "tags": []
   },
   "outputs": [],
   "source": [
    "# recover the processed train sets\n",
    "train_mod = full_df[full_df.index.isin(train_raw.index)] #_mod stands for modifies\n",
    "test_mod = full_df[full_df.index.isin(test_raw.index)].dropna(axis = 1)"
   ]
  },
  {
   "cell_type": "code",
   "execution_count": 19,
   "id": "314825e4-c38e-47d1-9727-b3c477f86a1e",
   "metadata": {
    "tags": []
   },
   "outputs": [
    {
     "name": "stdout",
     "output_type": "stream",
     "text": [
      "<class 'pandas.core.frame.DataFrame'>\n",
      "Index: 90615 entries, 0 to 90614\n",
      "Data columns (total 7 columns):\n",
      " #   Column             Non-Null Count  Dtype   \n",
      "---  ------             --------------  -----   \n",
      " 0   Length             90615 non-null  float64 \n",
      " 1   Height             90615 non-null  float64 \n",
      " 2   Whole weight       90615 non-null  float64 \n",
      " 3   Sex_I              90615 non-null  int32   \n",
      " 4   Sex_M              90615 non-null  int32   \n",
      " 5   DimensionsCluster  90615 non-null  category\n",
      " 6   Rings              90615 non-null  int32   \n",
      "dtypes: category(1), float64(3), int32(3)\n",
      "memory usage: 3.9 MB\n"
     ]
    },
    {
     "name": "stderr",
     "output_type": "stream",
     "text": [
      "C:\\Users\\maico\\AppData\\Local\\Temp\\ipykernel_12196\\2186041440.py:2: SettingWithCopyWarning: \n",
      "A value is trying to be set on a copy of a slice from a DataFrame.\n",
      "Try using .loc[row_indexer,col_indexer] = value instead\n",
      "\n",
      "See the caveats in the documentation: https://pandas.pydata.org/pandas-docs/stable/user_guide/indexing.html#returning-a-view-versus-a-copy\n",
      "  train_mod['Rings'] = train_mod['Rings'].astype(int)\n"
     ]
    }
   ],
   "source": [
    "# change Rings back to integers\n",
    "train_mod['Rings'] = train_mod['Rings'].astype(int)\n",
    "train_mod.info()"
   ]
  },
  {
   "cell_type": "code",
   "execution_count": 20,
   "id": "50801f34-b11f-4da6-ade8-05b021b467d5",
   "metadata": {
    "tags": []
   },
   "outputs": [
    {
     "name": "stdout",
     "output_type": "stream",
     "text": [
      "<class 'pandas.core.frame.DataFrame'>\n",
      "Index: 60411 entries, 90615 to 151025\n",
      "Data columns (total 6 columns):\n",
      " #   Column             Non-Null Count  Dtype   \n",
      "---  ------             --------------  -----   \n",
      " 0   Length             60411 non-null  float64 \n",
      " 1   Height             60411 non-null  float64 \n",
      " 2   Whole weight       60411 non-null  float64 \n",
      " 3   Sex_I              60411 non-null  int32   \n",
      " 4   Sex_M              60411 non-null  int32   \n",
      " 5   DimensionsCluster  60411 non-null  category\n",
      "dtypes: category(1), float64(3), int32(2)\n",
      "memory usage: 2.4 MB\n"
     ]
    }
   ],
   "source": [
    "test_mod.info()"
   ]
  },
  {
   "cell_type": "code",
   "execution_count": 21,
   "id": "1b39ad0c-3e10-4cd5-ace5-3c8b03a28580",
   "metadata": {
    "tags": []
   },
   "outputs": [],
   "source": [
    "train_mod.to_csv('data/train_preprocessed.csv')\n",
    "test_mod.to_csv('data/test_preprocessed.csv')"
   ]
  }
 ],
 "metadata": {
  "kernelspec": {
   "display_name": "Python 3 (ipykernel)",
   "language": "python",
   "name": "python3"
  },
  "language_info": {
   "codemirror_mode": {
    "name": "ipython",
    "version": 3
   },
   "file_extension": ".py",
   "mimetype": "text/x-python",
   "name": "python",
   "nbconvert_exporter": "python",
   "pygments_lexer": "ipython3",
   "version": "3.11.5"
  }
 },
 "nbformat": 4,
 "nbformat_minor": 5
}
