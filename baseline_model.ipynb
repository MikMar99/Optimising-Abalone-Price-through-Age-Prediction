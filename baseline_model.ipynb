{
 "cells": [
  {
   "cell_type": "markdown",
   "id": "d65ade10-8ee4-4e96-b974-d67cf62c1f73",
   "metadata": {
    "tags": []
   },
   "source": [
    "# Submission for Regression with an Abalone Dataset\n",
    "\n",
    "The goal of this competition is to predict the **number of Rings** (an indicator of age) of abalone from various physical measurements. Since the number of rings of abalone is a continuous numerical variable, this is a regression problem.\n",
    "\n",
    "In this notebook, a **RandomForestRegressor** is used and the evaluation metric is the **Root Mean Squared Logarithmic Error**"
   ]
  },
  {
   "cell_type": "markdown",
   "id": "26832130-1e50-4f25-9b96-46652db820e0",
   "metadata": {},
   "source": [
    "## Sections\n",
    "1. Import Libraries and Data\n",
    "2. Preprocessing\n",
    "3. Train and Validation\n",
    "4. Submission Predictions"
   ]
  },
  {
   "cell_type": "markdown",
   "id": "445db78e-a4e0-4135-a78d-feb46bff3827",
   "metadata": {},
   "source": [
    "# 1. Import Libraries and Data"
   ]
  },
  {
   "cell_type": "code",
   "execution_count": 1,
   "id": "b711a22a-7924-40d0-af62-4cf2161f25d1",
   "metadata": {
    "tags": []
   },
   "outputs": [],
   "source": [
    "# Data exploration and manipulation\n",
    "import pandas as pd\n",
    "import numpy as np\n",
    "import math\n",
    "\n",
    "# Modeling and Validation\n",
    "from sklearn.ensemble import RandomForestRegressor\n",
    "from sklearn.model_selection import train_test_split\n",
    "from sklearn.metrics import mean_squared_log_error\n",
    "\n",
    "# manipulate dates, e.g., get today's date\n",
    "from datetime import date"
   ]
  },
  {
   "cell_type": "code",
   "execution_count": 2,
   "id": "68eb83e5-aa13-4175-99d5-63686eb1627c",
   "metadata": {
    "tags": []
   },
   "outputs": [],
   "source": [
    "train_df = pd.read_csv('data/playground-series-s4e4/train.csv')\n",
    "test_df = pd.read_csv('data/playground-series-s4e4/test.csv')\n",
    "sample_sub = pd.read_csv('data/playground-series-s4e4/sample_submission.csv')"
   ]
  },
  {
   "cell_type": "code",
   "execution_count": 3,
   "id": "5b7159fa-b7de-402e-9857-a310e2b9ee95",
   "metadata": {
    "tags": []
   },
   "outputs": [],
   "source": [
    "train_df.set_index(\"id\", inplace = True)\n",
    "test_df.set_index(\"id\", inplace = True)"
   ]
  },
  {
   "cell_type": "code",
   "execution_count": 4,
   "id": "7b3d707a-9849-4b10-bd0c-3cdcac2836db",
   "metadata": {
    "tags": []
   },
   "outputs": [
    {
     "data": {
      "text/html": [
       "<div>\n",
       "<style scoped>\n",
       "    .dataframe tbody tr th:only-of-type {\n",
       "        vertical-align: middle;\n",
       "    }\n",
       "\n",
       "    .dataframe tbody tr th {\n",
       "        vertical-align: top;\n",
       "    }\n",
       "\n",
       "    .dataframe thead th {\n",
       "        text-align: right;\n",
       "    }\n",
       "</style>\n",
       "<table border=\"1\" class=\"dataframe\">\n",
       "  <thead>\n",
       "    <tr style=\"text-align: right;\">\n",
       "      <th></th>\n",
       "      <th>Sex</th>\n",
       "      <th>Length</th>\n",
       "      <th>Diameter</th>\n",
       "      <th>Height</th>\n",
       "      <th>Whole weight</th>\n",
       "      <th>Whole weight.1</th>\n",
       "      <th>Whole weight.2</th>\n",
       "      <th>Shell weight</th>\n",
       "      <th>Rings</th>\n",
       "    </tr>\n",
       "    <tr>\n",
       "      <th>id</th>\n",
       "      <th></th>\n",
       "      <th></th>\n",
       "      <th></th>\n",
       "      <th></th>\n",
       "      <th></th>\n",
       "      <th></th>\n",
       "      <th></th>\n",
       "      <th></th>\n",
       "      <th></th>\n",
       "    </tr>\n",
       "  </thead>\n",
       "  <tbody>\n",
       "    <tr>\n",
       "      <th>90612</th>\n",
       "      <td>I</td>\n",
       "      <td>0.435</td>\n",
       "      <td>0.330</td>\n",
       "      <td>0.095</td>\n",
       "      <td>0.3215</td>\n",
       "      <td>0.1510</td>\n",
       "      <td>0.0785</td>\n",
       "      <td>0.0815</td>\n",
       "      <td>6</td>\n",
       "    </tr>\n",
       "    <tr>\n",
       "      <th>90613</th>\n",
       "      <td>I</td>\n",
       "      <td>0.345</td>\n",
       "      <td>0.270</td>\n",
       "      <td>0.075</td>\n",
       "      <td>0.2000</td>\n",
       "      <td>0.0980</td>\n",
       "      <td>0.0490</td>\n",
       "      <td>0.0700</td>\n",
       "      <td>6</td>\n",
       "    </tr>\n",
       "    <tr>\n",
       "      <th>90614</th>\n",
       "      <td>I</td>\n",
       "      <td>0.425</td>\n",
       "      <td>0.325</td>\n",
       "      <td>0.100</td>\n",
       "      <td>0.3455</td>\n",
       "      <td>0.1525</td>\n",
       "      <td>0.0785</td>\n",
       "      <td>0.1050</td>\n",
       "      <td>8</td>\n",
       "    </tr>\n",
       "  </tbody>\n",
       "</table>\n",
       "</div>"
      ],
      "text/plain": [
       "      Sex  Length  Diameter  Height  Whole weight  Whole weight.1  \\\n",
       "id                                                                  \n",
       "90612   I   0.435     0.330   0.095        0.3215          0.1510   \n",
       "90613   I   0.345     0.270   0.075        0.2000          0.0980   \n",
       "90614   I   0.425     0.325   0.100        0.3455          0.1525   \n",
       "\n",
       "       Whole weight.2  Shell weight  Rings  \n",
       "id                                          \n",
       "90612          0.0785        0.0815      6  \n",
       "90613          0.0490        0.0700      6  \n",
       "90614          0.0785        0.1050      8  "
      ]
     },
     "execution_count": 4,
     "metadata": {},
     "output_type": "execute_result"
    }
   ],
   "source": [
    "train_df.tail(3)"
   ]
  },
  {
   "cell_type": "code",
   "execution_count": 5,
   "id": "69f279cb-c424-4f13-baad-b8b8a981fc02",
   "metadata": {
    "tags": []
   },
   "outputs": [
    {
     "data": {
      "text/html": [
       "<div>\n",
       "<style scoped>\n",
       "    .dataframe tbody tr th:only-of-type {\n",
       "        vertical-align: middle;\n",
       "    }\n",
       "\n",
       "    .dataframe tbody tr th {\n",
       "        vertical-align: top;\n",
       "    }\n",
       "\n",
       "    .dataframe thead th {\n",
       "        text-align: right;\n",
       "    }\n",
       "</style>\n",
       "<table border=\"1\" class=\"dataframe\">\n",
       "  <thead>\n",
       "    <tr style=\"text-align: right;\">\n",
       "      <th></th>\n",
       "      <th>Sex</th>\n",
       "      <th>Length</th>\n",
       "      <th>Diameter</th>\n",
       "      <th>Height</th>\n",
       "      <th>Whole weight</th>\n",
       "      <th>Whole weight.1</th>\n",
       "      <th>Whole weight.2</th>\n",
       "      <th>Shell weight</th>\n",
       "    </tr>\n",
       "    <tr>\n",
       "      <th>id</th>\n",
       "      <th></th>\n",
       "      <th></th>\n",
       "      <th></th>\n",
       "      <th></th>\n",
       "      <th></th>\n",
       "      <th></th>\n",
       "      <th></th>\n",
       "      <th></th>\n",
       "    </tr>\n",
       "  </thead>\n",
       "  <tbody>\n",
       "    <tr>\n",
       "      <th>90615</th>\n",
       "      <td>M</td>\n",
       "      <td>0.645</td>\n",
       "      <td>0.475</td>\n",
       "      <td>0.155</td>\n",
       "      <td>1.2380</td>\n",
       "      <td>0.6185</td>\n",
       "      <td>0.3125</td>\n",
       "      <td>0.3005</td>\n",
       "    </tr>\n",
       "    <tr>\n",
       "      <th>90616</th>\n",
       "      <td>M</td>\n",
       "      <td>0.580</td>\n",
       "      <td>0.460</td>\n",
       "      <td>0.160</td>\n",
       "      <td>0.9830</td>\n",
       "      <td>0.4785</td>\n",
       "      <td>0.2195</td>\n",
       "      <td>0.2750</td>\n",
       "    </tr>\n",
       "    <tr>\n",
       "      <th>90617</th>\n",
       "      <td>M</td>\n",
       "      <td>0.560</td>\n",
       "      <td>0.420</td>\n",
       "      <td>0.140</td>\n",
       "      <td>0.8395</td>\n",
       "      <td>0.3525</td>\n",
       "      <td>0.1845</td>\n",
       "      <td>0.2405</td>\n",
       "    </tr>\n",
       "  </tbody>\n",
       "</table>\n",
       "</div>"
      ],
      "text/plain": [
       "      Sex  Length  Diameter  Height  Whole weight  Whole weight.1  \\\n",
       "id                                                                  \n",
       "90615   M   0.645     0.475   0.155        1.2380          0.6185   \n",
       "90616   M   0.580     0.460   0.160        0.9830          0.4785   \n",
       "90617   M   0.560     0.420   0.140        0.8395          0.3525   \n",
       "\n",
       "       Whole weight.2  Shell weight  \n",
       "id                                   \n",
       "90615          0.3125        0.3005  \n",
       "90616          0.2195        0.2750  \n",
       "90617          0.1845        0.2405  "
      ]
     },
     "execution_count": 5,
     "metadata": {},
     "output_type": "execute_result"
    }
   ],
   "source": [
    "test_df.head(3)"
   ]
  },
  {
   "cell_type": "markdown",
   "id": "3a34a1f2-413c-4385-be1b-372dffdeb42c",
   "metadata": {},
   "source": [
    "# 2. Preprocessing\n",
    "### 2-1 Convert non-numerical columns to numerical\n",
    "\n",
    "**The Scikit-learn library only accepts numerical values** hence we need to change the Sex column to numerical"
   ]
  },
  {
   "cell_type": "code",
   "execution_count": 6,
   "id": "86609876-233f-4c7e-a57c-51645250c0f2",
   "metadata": {
    "tags": []
   },
   "outputs": [
    {
     "data": {
      "text/plain": [
       "array(['F', 'I', 'M'], dtype=object)"
      ]
     },
     "execution_count": 6,
     "metadata": {},
     "output_type": "execute_result"
    }
   ],
   "source": [
    "train_df['Sex'].unique()"
   ]
  },
  {
   "cell_type": "markdown",
   "id": "5240f287-2c6c-4518-b838-3a6a29fd9d0d",
   "metadata": {},
   "source": [
    "\"I\" stands for infant"
   ]
  },
  {
   "cell_type": "code",
   "execution_count": 7,
   "id": "3efc239b-e879-402f-8cab-73602ef8e922",
   "metadata": {
    "tags": []
   },
   "outputs": [
    {
     "data": {
      "text/html": [
       "<div>\n",
       "<style scoped>\n",
       "    .dataframe tbody tr th:only-of-type {\n",
       "        vertical-align: middle;\n",
       "    }\n",
       "\n",
       "    .dataframe tbody tr th {\n",
       "        vertical-align: top;\n",
       "    }\n",
       "\n",
       "    .dataframe thead th {\n",
       "        text-align: right;\n",
       "    }\n",
       "</style>\n",
       "<table border=\"1\" class=\"dataframe\">\n",
       "  <thead>\n",
       "    <tr style=\"text-align: right;\">\n",
       "      <th></th>\n",
       "      <th>Sex_I</th>\n",
       "      <th>Sex_M</th>\n",
       "    </tr>\n",
       "    <tr>\n",
       "      <th>id</th>\n",
       "      <th></th>\n",
       "      <th></th>\n",
       "    </tr>\n",
       "  </thead>\n",
       "  <tbody>\n",
       "    <tr>\n",
       "      <th>0</th>\n",
       "      <td>0</td>\n",
       "      <td>0</td>\n",
       "    </tr>\n",
       "    <tr>\n",
       "      <th>1</th>\n",
       "      <td>0</td>\n",
       "      <td>0</td>\n",
       "    </tr>\n",
       "    <tr>\n",
       "      <th>2</th>\n",
       "      <td>1</td>\n",
       "      <td>0</td>\n",
       "    </tr>\n",
       "  </tbody>\n",
       "</table>\n",
       "</div>"
      ],
      "text/plain": [
       "    Sex_I  Sex_M\n",
       "id              \n",
       "0       0      0\n",
       "1       0      0\n",
       "2       1      0"
      ]
     },
     "execution_count": 7,
     "metadata": {},
     "output_type": "execute_result"
    }
   ],
   "source": [
    "train_dummies = pd.get_dummies(train_df['Sex'],drop_first=True,prefix=\"Sex\", prefix_sep='_', dtype=int)\n",
    "test_dummies = pd.get_dummies(test_df['Sex'],drop_first=True,prefix=\"Sex\", prefix_sep='_', dtype=int)\n",
    "\n",
    "# Three columns have been created for M, F, and I; however, only two are necessary since if they are both 0, \n",
    "# then it is implied the sex is neither F nor M but I\n",
    "# train_dummies.drop(columns = [\"I\"], inplace = True)\n",
    "# test_dummies.drop(columns = [\"I\"], inplace = True)\n",
    "\n",
    "train_dummies.head(3)"
   ]
  },
  {
   "cell_type": "markdown",
   "id": "f182f40c-829f-4f4f-b7d7-c27bfec12f88",
   "metadata": {},
   "source": [
    "**Note:** When both Sex_I and Sex_M are 0, then the sex is \"F\"; the column \"F\" was eliminated by the drop_first=True argument (any of the three could have eliminated) to reduce the number of column (i.e., for efficiency)"
   ]
  },
  {
   "cell_type": "code",
   "execution_count": 8,
   "id": "3522f2f6-4f73-45db-9bbc-3379c5687e44",
   "metadata": {
    "tags": []
   },
   "outputs": [],
   "source": [
    "# merge dummies to the train_df dataframe \n",
    "train_df = train_df.merge(train_dummies, left_index=True, right_index=True)\n",
    "# remove the \"Sex\" column (this is now encoded and is thus redundant) and reorder columns for clarity\n",
    "train_df = train_df[['Sex_I','Sex_M','Length','Diameter','Height','Whole weight','Whole weight.1','Whole weight.2','Shell weight','Rings']]\n",
    "\n",
    "#Now same for the test_df\n",
    "test_df = test_df.merge(test_dummies, left_index=True, right_index=True)\n",
    "test_df = test_df[['Sex_I','Sex_M','Length','Diameter','Height','Whole weight','Whole weight.1','Whole weight.2','Shell weight']]"
   ]
  },
  {
   "cell_type": "code",
   "execution_count": 9,
   "id": "8e373003-ca23-4772-ac94-ae77178b0996",
   "metadata": {
    "tags": []
   },
   "outputs": [
    {
     "data": {
      "text/html": [
       "<div>\n",
       "<style scoped>\n",
       "    .dataframe tbody tr th:only-of-type {\n",
       "        vertical-align: middle;\n",
       "    }\n",
       "\n",
       "    .dataframe tbody tr th {\n",
       "        vertical-align: top;\n",
       "    }\n",
       "\n",
       "    .dataframe thead th {\n",
       "        text-align: right;\n",
       "    }\n",
       "</style>\n",
       "<table border=\"1\" class=\"dataframe\">\n",
       "  <thead>\n",
       "    <tr style=\"text-align: right;\">\n",
       "      <th></th>\n",
       "      <th>Sex_I</th>\n",
       "      <th>Sex_M</th>\n",
       "      <th>Length</th>\n",
       "      <th>Diameter</th>\n",
       "      <th>Height</th>\n",
       "      <th>Whole weight</th>\n",
       "      <th>Whole weight.1</th>\n",
       "      <th>Whole weight.2</th>\n",
       "      <th>Shell weight</th>\n",
       "      <th>Rings</th>\n",
       "    </tr>\n",
       "    <tr>\n",
       "      <th>id</th>\n",
       "      <th></th>\n",
       "      <th></th>\n",
       "      <th></th>\n",
       "      <th></th>\n",
       "      <th></th>\n",
       "      <th></th>\n",
       "      <th></th>\n",
       "      <th></th>\n",
       "      <th></th>\n",
       "      <th></th>\n",
       "    </tr>\n",
       "  </thead>\n",
       "  <tbody>\n",
       "    <tr>\n",
       "      <th>0</th>\n",
       "      <td>0</td>\n",
       "      <td>0</td>\n",
       "      <td>0.55</td>\n",
       "      <td>0.43</td>\n",
       "      <td>0.150</td>\n",
       "      <td>0.7715</td>\n",
       "      <td>0.3285</td>\n",
       "      <td>0.1465</td>\n",
       "      <td>0.240</td>\n",
       "      <td>11</td>\n",
       "    </tr>\n",
       "    <tr>\n",
       "      <th>1</th>\n",
       "      <td>0</td>\n",
       "      <td>0</td>\n",
       "      <td>0.63</td>\n",
       "      <td>0.49</td>\n",
       "      <td>0.145</td>\n",
       "      <td>1.1300</td>\n",
       "      <td>0.4580</td>\n",
       "      <td>0.2765</td>\n",
       "      <td>0.320</td>\n",
       "      <td>11</td>\n",
       "    </tr>\n",
       "    <tr>\n",
       "      <th>2</th>\n",
       "      <td>1</td>\n",
       "      <td>0</td>\n",
       "      <td>0.16</td>\n",
       "      <td>0.11</td>\n",
       "      <td>0.025</td>\n",
       "      <td>0.0210</td>\n",
       "      <td>0.0055</td>\n",
       "      <td>0.0030</td>\n",
       "      <td>0.005</td>\n",
       "      <td>6</td>\n",
       "    </tr>\n",
       "  </tbody>\n",
       "</table>\n",
       "</div>"
      ],
      "text/plain": [
       "    Sex_I  Sex_M  Length  Diameter  Height  Whole weight  Whole weight.1  \\\n",
       "id                                                                         \n",
       "0       0      0    0.55      0.43   0.150        0.7715          0.3285   \n",
       "1       0      0    0.63      0.49   0.145        1.1300          0.4580   \n",
       "2       1      0    0.16      0.11   0.025        0.0210          0.0055   \n",
       "\n",
       "    Whole weight.2  Shell weight  Rings  \n",
       "id                                       \n",
       "0           0.1465         0.240     11  \n",
       "1           0.2765         0.320     11  \n",
       "2           0.0030         0.005      6  "
      ]
     },
     "execution_count": 9,
     "metadata": {},
     "output_type": "execute_result"
    }
   ],
   "source": [
    "train_df.head(3)"
   ]
  },
  {
   "cell_type": "code",
   "execution_count": 10,
   "id": "babdd151-958d-45a5-b93e-d5713f637116",
   "metadata": {
    "tags": []
   },
   "outputs": [
    {
     "data": {
      "text/html": [
       "<div>\n",
       "<style scoped>\n",
       "    .dataframe tbody tr th:only-of-type {\n",
       "        vertical-align: middle;\n",
       "    }\n",
       "\n",
       "    .dataframe tbody tr th {\n",
       "        vertical-align: top;\n",
       "    }\n",
       "\n",
       "    .dataframe thead th {\n",
       "        text-align: right;\n",
       "    }\n",
       "</style>\n",
       "<table border=\"1\" class=\"dataframe\">\n",
       "  <thead>\n",
       "    <tr style=\"text-align: right;\">\n",
       "      <th></th>\n",
       "      <th>Sex_I</th>\n",
       "      <th>Sex_M</th>\n",
       "      <th>Length</th>\n",
       "      <th>Diameter</th>\n",
       "      <th>Height</th>\n",
       "      <th>Whole weight</th>\n",
       "      <th>Whole weight.1</th>\n",
       "      <th>Whole weight.2</th>\n",
       "      <th>Shell weight</th>\n",
       "    </tr>\n",
       "    <tr>\n",
       "      <th>id</th>\n",
       "      <th></th>\n",
       "      <th></th>\n",
       "      <th></th>\n",
       "      <th></th>\n",
       "      <th></th>\n",
       "      <th></th>\n",
       "      <th></th>\n",
       "      <th></th>\n",
       "      <th></th>\n",
       "    </tr>\n",
       "  </thead>\n",
       "  <tbody>\n",
       "    <tr>\n",
       "      <th>90615</th>\n",
       "      <td>0</td>\n",
       "      <td>1</td>\n",
       "      <td>0.645</td>\n",
       "      <td>0.475</td>\n",
       "      <td>0.155</td>\n",
       "      <td>1.2380</td>\n",
       "      <td>0.6185</td>\n",
       "      <td>0.3125</td>\n",
       "      <td>0.3005</td>\n",
       "    </tr>\n",
       "    <tr>\n",
       "      <th>90616</th>\n",
       "      <td>0</td>\n",
       "      <td>1</td>\n",
       "      <td>0.580</td>\n",
       "      <td>0.460</td>\n",
       "      <td>0.160</td>\n",
       "      <td>0.9830</td>\n",
       "      <td>0.4785</td>\n",
       "      <td>0.2195</td>\n",
       "      <td>0.2750</td>\n",
       "    </tr>\n",
       "    <tr>\n",
       "      <th>90617</th>\n",
       "      <td>0</td>\n",
       "      <td>1</td>\n",
       "      <td>0.560</td>\n",
       "      <td>0.420</td>\n",
       "      <td>0.140</td>\n",
       "      <td>0.8395</td>\n",
       "      <td>0.3525</td>\n",
       "      <td>0.1845</td>\n",
       "      <td>0.2405</td>\n",
       "    </tr>\n",
       "  </tbody>\n",
       "</table>\n",
       "</div>"
      ],
      "text/plain": [
       "       Sex_I  Sex_M  Length  Diameter  Height  Whole weight  Whole weight.1  \\\n",
       "id                                                                            \n",
       "90615      0      1   0.645     0.475   0.155        1.2380          0.6185   \n",
       "90616      0      1   0.580     0.460   0.160        0.9830          0.4785   \n",
       "90617      0      1   0.560     0.420   0.140        0.8395          0.3525   \n",
       "\n",
       "       Whole weight.2  Shell weight  \n",
       "id                                   \n",
       "90615          0.3125        0.3005  \n",
       "90616          0.2195        0.2750  \n",
       "90617          0.1845        0.2405  "
      ]
     },
     "execution_count": 10,
     "metadata": {},
     "output_type": "execute_result"
    }
   ],
   "source": [
    "test_df.head(3)"
   ]
  },
  {
   "cell_type": "markdown",
   "id": "59c89d81-b767-40b8-b0db-4b9d645c7b1c",
   "metadata": {
    "tags": []
   },
   "source": [
    "### 2-2 Split the data for training and testing"
   ]
  },
  {
   "cell_type": "code",
   "execution_count": 11,
   "id": "470aa2b4-4a24-4e1e-b504-3f63abe3a926",
   "metadata": {
    "tags": []
   },
   "outputs": [],
   "source": [
    "X = train_df.iloc[:,:-1]  # features set\n",
    "y = train_df.iloc[:,-1]  # target set\n",
    "\n",
    "X_train, X_test, y_train, y_test = train_test_split(X, y, test_size = 0.2, random_state = 1111)"
   ]
  },
  {
   "cell_type": "markdown",
   "id": "39efb798-17d8-4166-9fdb-340ea83b5236",
   "metadata": {},
   "source": [
    "# 3. Train and Validation\n",
    "\n",
    "Using a Random Forest Regressor"
   ]
  },
  {
   "cell_type": "markdown",
   "id": "b38f165c-7cd0-4054-99d7-423541705b6c",
   "metadata": {},
   "source": [
    "### 3-1. Training"
   ]
  },
  {
   "cell_type": "code",
   "execution_count": 12,
   "id": "1834b064-da4e-4778-923a-4f10394763e8",
   "metadata": {
    "tags": []
   },
   "outputs": [
    {
     "data": {
      "text/html": [
       "<style>#sk-container-id-1 {color: black;}#sk-container-id-1 pre{padding: 0;}#sk-container-id-1 div.sk-toggleable {background-color: white;}#sk-container-id-1 label.sk-toggleable__label {cursor: pointer;display: block;width: 100%;margin-bottom: 0;padding: 0.3em;box-sizing: border-box;text-align: center;}#sk-container-id-1 label.sk-toggleable__label-arrow:before {content: \"▸\";float: left;margin-right: 0.25em;color: #696969;}#sk-container-id-1 label.sk-toggleable__label-arrow:hover:before {color: black;}#sk-container-id-1 div.sk-estimator:hover label.sk-toggleable__label-arrow:before {color: black;}#sk-container-id-1 div.sk-toggleable__content {max-height: 0;max-width: 0;overflow: hidden;text-align: left;background-color: #f0f8ff;}#sk-container-id-1 div.sk-toggleable__content pre {margin: 0.2em;color: black;border-radius: 0.25em;background-color: #f0f8ff;}#sk-container-id-1 input.sk-toggleable__control:checked~div.sk-toggleable__content {max-height: 200px;max-width: 100%;overflow: auto;}#sk-container-id-1 input.sk-toggleable__control:checked~label.sk-toggleable__label-arrow:before {content: \"▾\";}#sk-container-id-1 div.sk-estimator input.sk-toggleable__control:checked~label.sk-toggleable__label {background-color: #d4ebff;}#sk-container-id-1 div.sk-label input.sk-toggleable__control:checked~label.sk-toggleable__label {background-color: #d4ebff;}#sk-container-id-1 input.sk-hidden--visually {border: 0;clip: rect(1px 1px 1px 1px);clip: rect(1px, 1px, 1px, 1px);height: 1px;margin: -1px;overflow: hidden;padding: 0;position: absolute;width: 1px;}#sk-container-id-1 div.sk-estimator {font-family: monospace;background-color: #f0f8ff;border: 1px dotted black;border-radius: 0.25em;box-sizing: border-box;margin-bottom: 0.5em;}#sk-container-id-1 div.sk-estimator:hover {background-color: #d4ebff;}#sk-container-id-1 div.sk-parallel-item::after {content: \"\";width: 100%;border-bottom: 1px solid gray;flex-grow: 1;}#sk-container-id-1 div.sk-label:hover label.sk-toggleable__label {background-color: #d4ebff;}#sk-container-id-1 div.sk-serial::before {content: \"\";position: absolute;border-left: 1px solid gray;box-sizing: border-box;top: 0;bottom: 0;left: 50%;z-index: 0;}#sk-container-id-1 div.sk-serial {display: flex;flex-direction: column;align-items: center;background-color: white;padding-right: 0.2em;padding-left: 0.2em;position: relative;}#sk-container-id-1 div.sk-item {position: relative;z-index: 1;}#sk-container-id-1 div.sk-parallel {display: flex;align-items: stretch;justify-content: center;background-color: white;position: relative;}#sk-container-id-1 div.sk-item::before, #sk-container-id-1 div.sk-parallel-item::before {content: \"\";position: absolute;border-left: 1px solid gray;box-sizing: border-box;top: 0;bottom: 0;left: 50%;z-index: -1;}#sk-container-id-1 div.sk-parallel-item {display: flex;flex-direction: column;z-index: 1;position: relative;background-color: white;}#sk-container-id-1 div.sk-parallel-item:first-child::after {align-self: flex-end;width: 50%;}#sk-container-id-1 div.sk-parallel-item:last-child::after {align-self: flex-start;width: 50%;}#sk-container-id-1 div.sk-parallel-item:only-child::after {width: 0;}#sk-container-id-1 div.sk-dashed-wrapped {border: 1px dashed gray;margin: 0 0.4em 0.5em 0.4em;box-sizing: border-box;padding-bottom: 0.4em;background-color: white;}#sk-container-id-1 div.sk-label label {font-family: monospace;font-weight: bold;display: inline-block;line-height: 1.2em;}#sk-container-id-1 div.sk-label-container {text-align: center;}#sk-container-id-1 div.sk-container {/* jupyter's `normalize.less` sets `[hidden] { display: none; }` but bootstrap.min.css set `[hidden] { display: none !important; }` so we also need the `!important` here to be able to override the default hidden behavior on the sphinx rendered scikit-learn.org. See: https://github.com/scikit-learn/scikit-learn/issues/21755 */display: inline-block !important;position: relative;}#sk-container-id-1 div.sk-text-repr-fallback {display: none;}</style><div id=\"sk-container-id-1\" class=\"sk-top-container\"><div class=\"sk-text-repr-fallback\"><pre>RandomForestRegressor(random_state=1111)</pre><b>In a Jupyter environment, please rerun this cell to show the HTML representation or trust the notebook. <br />On GitHub, the HTML representation is unable to render, please try loading this page with nbviewer.org.</b></div><div class=\"sk-container\" hidden><div class=\"sk-item\"><div class=\"sk-estimator sk-toggleable\"><input class=\"sk-toggleable__control sk-hidden--visually\" id=\"sk-estimator-id-1\" type=\"checkbox\" checked><label for=\"sk-estimator-id-1\" class=\"sk-toggleable__label sk-toggleable__label-arrow\">RandomForestRegressor</label><div class=\"sk-toggleable__content\"><pre>RandomForestRegressor(random_state=1111)</pre></div></div></div></div></div>"
      ],
      "text/plain": [
       "RandomForestRegressor(random_state=1111)"
      ]
     },
     "execution_count": 12,
     "metadata": {},
     "output_type": "execute_result"
    }
   ],
   "source": [
    "# Create a Random Forest object\n",
    "rfr = RandomForestRegressor(random_state = 1111)\n",
    "\n",
    "# Train a model\n",
    "rfr.fit(X_train,y_train)"
   ]
  },
  {
   "cell_type": "markdown",
   "id": "14ec13ee-619d-4fcf-bd0e-08c52c5125b1",
   "metadata": {},
   "source": [
    "### 3-2. Validation"
   ]
  },
  {
   "cell_type": "code",
   "execution_count": 13,
   "id": "ca10848f-2dd9-4546-bd33-5013a8c7929f",
   "metadata": {
    "tags": []
   },
   "outputs": [
    {
     "name": "stdout",
     "output_type": "stream",
     "text": [
      "The TRAIN ERROR is : 0.05903926470082347\n",
      "The TEST ERROR is :: 0.15475238800109298\n"
     ]
    }
   ],
   "source": [
    "# Make predictions\n",
    "\n",
    "train_predictions = rfr.predict(X_train)\n",
    "test_predictions = rfr.predict(X_test)\n",
    "\n",
    "train_error = math.sqrt(mean_squared_log_error(y_train,train_predictions))\n",
    "test_error = math.sqrt(mean_squared_log_error(y_test,test_predictions))\n",
    "\n",
    "#evaluate predictions\n",
    "print(\"The TRAIN ERROR is :\", train_error)\n",
    "print(\"The TEST ERROR is ::\", test_error)"
   ]
  },
  {
   "cell_type": "markdown",
   "id": "ec1a5b9c-f0ec-4aaa-99a4-39f9a0e80b20",
   "metadata": {},
   "source": [
    "**NOTE:** Generally, models perform a lot better on training data, as test data is unseen and may have features or characteristics that were not exposed in the model. **Since training and testing errors are vastly different, the model is probably overfitted.** We will use model validation to make sure we get the best testing error possible."
   ]
  },
  {
   "cell_type": "markdown",
   "id": "b4aa4fb7-278d-4bfb-b9d1-bebab7c0fc6b",
   "metadata": {},
   "source": [
    "# 4. Submission Predictions"
   ]
  },
  {
   "cell_type": "markdown",
   "id": "43b2dc90-b2ec-4959-ac21-e613ade63399",
   "metadata": {},
   "source": [
    "### First, re-train the model with all training data and make predictions on test data"
   ]
  },
  {
   "cell_type": "code",
   "execution_count": 14,
   "id": "4eea8c5b-b503-4397-8237-fdb2440710fe",
   "metadata": {
    "tags": []
   },
   "outputs": [],
   "source": [
    "# Create a Random Forest object\n",
    "rfr = RandomForestRegressor(random_state = 1111)\n",
    "\n",
    "# Train model\n",
    "rfr.fit(X,y)\n",
    "\n",
    "# make predictions\n",
    "final_predictions = rfr.predict(test_df)"
   ]
  },
  {
   "cell_type": "code",
   "execution_count": 15,
   "id": "33b6c7ac-7f4c-4688-86fc-45285a227af0",
   "metadata": {
    "tags": []
   },
   "outputs": [],
   "source": [
    "# converting the predictions to integers (It doesn't make sense to have non-integer number of rings)\n",
    "final_predictions = [int(x) for x in final_predictions]"
   ]
  },
  {
   "cell_type": "markdown",
   "id": "ae03d8cf-9f84-4756-9480-85af22a46abb",
   "metadata": {},
   "source": [
    "### Prepare Submission DataFrame"
   ]
  },
  {
   "cell_type": "code",
   "execution_count": 16,
   "id": "89b44889-e77c-4a96-bef9-edfb490401eb",
   "metadata": {
    "tags": []
   },
   "outputs": [],
   "source": [
    "submission_df = pd.DataFrame(final_predictions, columns = [\"Rings\"])\n",
    "submission_df['id'] = test_df.index\n",
    "\n",
    "# reorder the columns to match the sample submission file\n",
    "submission_df = submission_df[[\"id\",\"Rings\"]]"
   ]
  },
  {
   "cell_type": "code",
   "execution_count": 17,
   "id": "2b4b41bb-7eb9-44ac-b6a9-2458e7b9d097",
   "metadata": {
    "tags": []
   },
   "outputs": [
    {
     "data": {
      "text/html": [
       "<div>\n",
       "<style scoped>\n",
       "    .dataframe tbody tr th:only-of-type {\n",
       "        vertical-align: middle;\n",
       "    }\n",
       "\n",
       "    .dataframe tbody tr th {\n",
       "        vertical-align: top;\n",
       "    }\n",
       "\n",
       "    .dataframe thead th {\n",
       "        text-align: right;\n",
       "    }\n",
       "</style>\n",
       "<table border=\"1\" class=\"dataframe\">\n",
       "  <thead>\n",
       "    <tr style=\"text-align: right;\">\n",
       "      <th></th>\n",
       "      <th>id</th>\n",
       "      <th>Rings</th>\n",
       "    </tr>\n",
       "  </thead>\n",
       "  <tbody>\n",
       "    <tr>\n",
       "      <th>0</th>\n",
       "      <td>90615</td>\n",
       "      <td>10</td>\n",
       "    </tr>\n",
       "    <tr>\n",
       "      <th>1</th>\n",
       "      <td>90616</td>\n",
       "      <td>9</td>\n",
       "    </tr>\n",
       "    <tr>\n",
       "      <th>2</th>\n",
       "      <td>90617</td>\n",
       "      <td>10</td>\n",
       "    </tr>\n",
       "    <tr>\n",
       "      <th>3</th>\n",
       "      <td>90618</td>\n",
       "      <td>11</td>\n",
       "    </tr>\n",
       "    <tr>\n",
       "      <th>4</th>\n",
       "      <td>90619</td>\n",
       "      <td>7</td>\n",
       "    </tr>\n",
       "  </tbody>\n",
       "</table>\n",
       "</div>"
      ],
      "text/plain": [
       "      id  Rings\n",
       "0  90615     10\n",
       "1  90616      9\n",
       "2  90617     10\n",
       "3  90618     11\n",
       "4  90619      7"
      ]
     },
     "execution_count": 17,
     "metadata": {},
     "output_type": "execute_result"
    }
   ],
   "source": [
    "submission_df.head()"
   ]
  },
  {
   "cell_type": "code",
   "execution_count": 18,
   "id": "675d33dc-a981-432a-ae2c-30ce95376ded",
   "metadata": {
    "tags": []
   },
   "outputs": [],
   "source": [
    "# get todays date\n",
    "today = date.today() \n",
    "\n",
    "# create the file name with todays date (this prevents us from overwriting previous files\n",
    "file_path = \"data/submission_\" + str(today) + \".csv\"\n",
    "\n",
    "# output submission csv file (this should be uploaded to Kaggle without any modification\n",
    "submission_df.to_csv(file_path, index = False)"
   ]
  },
  {
   "cell_type": "code",
   "execution_count": null,
   "id": "76761ac3-6e0b-48c9-a77f-e4541554fc58",
   "metadata": {},
   "outputs": [],
   "source": []
  }
 ],
 "metadata": {
  "kernelspec": {
   "display_name": "Python 3 (ipykernel)",
   "language": "python",
   "name": "python3"
  },
  "language_info": {
   "codemirror_mode": {
    "name": "ipython",
    "version": 3
   },
   "file_extension": ".py",
   "mimetype": "text/x-python",
   "name": "python",
   "nbconvert_exporter": "python",
   "pygments_lexer": "ipython3",
   "version": "3.11.5"
  }
 },
 "nbformat": 4,
 "nbformat_minor": 5
}
