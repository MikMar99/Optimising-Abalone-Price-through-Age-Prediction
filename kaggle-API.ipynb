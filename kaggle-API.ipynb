{
 "cells": [
  {
   "cell_type": "markdown",
   "id": "788d7910-5bfc-44a5-96e2-55dfc63bb437",
   "metadata": {
    "tags": []
   },
   "source": [
    "# Useful Links:\n",
    " - [Official Kaggle API documentation:](https://www.kaggle.com/docs/api)\n",
    " - [6 minutes Youtube video on getting started with Kaggle API](https://www.youtube.com/watch?v=gkEbaMgvLs8)"
   ]
  },
  {
   "cell_type": "code",
   "execution_count": 1,
   "id": "c9a37720-90c1-4583-a882-564fb24c1912",
   "metadata": {},
   "outputs": [],
   "source": [
    "## install kaggle API module\n",
    "#pip install kaggle\n",
    "\n",
    "##update kaggle API module - needed if you already have an old version of the API\n",
    "##!pip install -Uqqq --upgrade --force-reinstall --no-deps kaggle\n",
    "\n",
    "## Patool is used here to unzip the data folder downloaded \n",
    "#!pip install patool"
   ]
  },
  {
   "cell_type": "code",
   "execution_count": 2,
   "id": "b947c9e3-a4ad-4f16-b37e-6249ea0f5ebd",
   "metadata": {
    "tags": []
   },
   "outputs": [],
   "source": [
    "# kaggle API to download and upload data from Kaggle\n",
    "import kaggle\n",
    "\n",
    "# Library used to unzip folders\n",
    "import patoolib\n",
    "\n",
    "import pandas as pd"
   ]
  },
  {
   "cell_type": "markdown",
   "id": "9f5dd00b-910d-409d-ba80-9231f5645b93",
   "metadata": {},
   "source": [
    "-----------------------"
   ]
  },
  {
   "cell_type": "code",
   "execution_count": 1,
   "id": "de6ea2f3-154e-4fa6-b8ee-732464a0e005",
   "metadata": {
    "tags": []
   },
   "outputs": [],
   "source": [
    "# # Download zipped data to a specific folder\n",
    "# !kaggle competitions download -c playground-series-s4e4 -p scratch_data\n",
    "\n",
    "# # Unzip files\n",
    "# patoolib.extract_archive(\"scratch_data/playground-series-s4e4.zip\",outdir=\"scratch_data/playground-series-s4e4\")\n",
    "\n",
    "# #Check Data\n",
    "# train = pd.read_csv('scratch_data/playground-series-s4e4/train.csv')\n",
    "# train.head(3)"
   ]
  },
  {
   "cell_type": "markdown",
   "id": "5c262dc0-e013-4697-aa8b-b3c3cb90c3f2",
   "metadata": {},
   "source": [
    "-------------------------------------"
   ]
  },
  {
   "cell_type": "markdown",
   "id": "02c580cb-1777-44a0-b6eb-7ac43a330f28",
   "metadata": {},
   "source": [
    "# Submit the data (uncomment cells below)"
   ]
  },
  {
   "cell_type": "markdown",
   "id": "3bf7ef7e-1953-4f03-9620-e0e9568ebc93",
   "metadata": {},
   "source": [
    "### Check the submission file first"
   ]
  },
  {
   "cell_type": "code",
   "execution_count": null,
   "id": "3b5534b4-4d8d-4402-8642-8bdf3f7aa07f",
   "metadata": {},
   "outputs": [],
   "source": [
    "# submission_df = pd.read_csv(\"scratch_data/submission_2024-04-01.csv\")\n",
    "# submission_df.head()"
   ]
  },
  {
   "cell_type": "code",
   "execution_count": null,
   "id": "fdc2b203-2c85-4349-a4d0-276fde59bb7d",
   "metadata": {},
   "outputs": [],
   "source": [
    "#!kaggle competitions submit -c playground-series-s4e4 -f scratch_data/submission_2024-04-01.csv -m \"RandomForestRegressor without any parameter tuning\""
   ]
  }
 ],
 "metadata": {
  "kernelspec": {
   "display_name": "Python 3 (ipykernel)",
   "language": "python",
   "name": "python3"
  },
  "language_info": {
   "codemirror_mode": {
    "name": "ipython",
    "version": 3
   },
   "file_extension": ".py",
   "mimetype": "text/x-python",
   "name": "python",
   "nbconvert_exporter": "python",
   "pygments_lexer": "ipython3",
   "version": "3.11.5"
  }
 },
 "nbformat": 4,
 "nbformat_minor": 5
}
